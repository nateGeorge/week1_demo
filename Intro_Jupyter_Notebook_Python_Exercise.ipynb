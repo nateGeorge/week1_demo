{
 "cells": [
  {
   "cell_type": "markdown",
   "metadata": {},
   "source": [
    "The purpose of this tutorial is to introduce you to Jupyter notebooks and Python. We will also check your installation of Python and NumPy, pandas, and matplotlib libraries.\n",
    "\n",
    "This is a markdown cell and will not be run as code by Jupyter.  \n",
    "\n",
    "Check out the shortcuts and reference libraries under the Help drop down tab."
   ]
  },
  {
   "cell_type": "code",
   "execution_count": null,
   "metadata": {},
   "outputs": [],
   "source": [
    "import numpy as np  # load the numpy library as np (called \"aliasing\")\n",
    "import pandas as pd  # Load the pandas library as pd\n",
    "import matplotlib.pyplot as plt  # Load the matplotlib library as plt"
   ]
  },
  {
   "cell_type": "markdown",
   "metadata": {},
   "source": [
    "## Data types in Python\n",
    "There are a few different important data types in Python:\n",
    "- integer\n",
    "- float\n",
    "- string\n",
    "- list\n",
    "- dictionary\n",
    "\n",
    "There are many others, but these are the basics. The `type()` function will show us what type of variable or object something is."
   ]
  },
  {
   "cell_type": "code",
   "execution_count": null,
   "metadata": {},
   "outputs": [],
   "source": [
    "# integer\n",
    "4"
   ]
  },
  {
   "cell_type": "code",
   "execution_count": null,
   "metadata": {},
   "outputs": [],
   "source": [
    "type(4)"
   ]
  },
  {
   "cell_type": "code",
   "execution_count": null,
   "metadata": {},
   "outputs": [],
   "source": [
    "# float\n",
    "4.0"
   ]
  },
  {
   "cell_type": "code",
   "execution_count": null,
   "metadata": {},
   "outputs": [],
   "source": [
    "type(4.0)"
   ]
  },
  {
   "cell_type": "code",
   "execution_count": null,
   "metadata": {},
   "outputs": [],
   "source": [
    "# convert integer to float\n",
    "float(4)"
   ]
  },
  {
   "cell_type": "code",
   "execution_count": null,
   "metadata": {},
   "outputs": [],
   "source": [
    "# a string\n",
    "'hello'"
   ]
  },
  {
   "cell_type": "code",
   "execution_count": null,
   "metadata": {},
   "outputs": [],
   "source": [
    "type('hello')"
   ]
  },
  {
   "cell_type": "code",
   "execution_count": null,
   "metadata": {},
   "outputs": [],
   "source": [
    "# we can concatenate strings\n",
    "item1 = 'python' \n",
    "item2 = 'is'\n",
    "item3 = 'fun'\n",
    "item4 = '!'\n",
    "item1 + item2 + item3 + item4"
   ]
  },
  {
   "cell_type": "code",
   "execution_count": null,
   "metadata": {},
   "outputs": [],
   "source": [
    "# we can also print them\n",
    "print (item1, item2, item3, item4)  # print item1 through item4"
   ]
  },
  {
   "cell_type": "markdown",
   "metadata": {},
   "source": [
    "Strings have a lot of methods, described in the documentation:\n",
    "https://docs.python.org/3/library/stdtypes.html#text-sequence-type-str"
   ]
  },
  {
   "cell_type": "code",
   "execution_count": null,
   "metadata": {},
   "outputs": [],
   "source": [
    "' '.join([item1, item2, item3, item4])"
   ]
  },
  {
   "cell_type": "code",
   "execution_count": null,
   "metadata": {},
   "outputs": [],
   "source": [
    "# a list\n",
    "[1, 2, 3, 5]"
   ]
  },
  {
   "cell_type": "code",
   "execution_count": null,
   "metadata": {},
   "outputs": [],
   "source": [
    "# lists have a lot of functionality -- here we append an element to a list\n",
    "a_list = []\n",
    "a_list.append(1)\n",
    "a_list"
   ]
  },
  {
   "cell_type": "code",
   "execution_count": null,
   "metadata": {},
   "outputs": [],
   "source": [
    "# a dictionary\n",
    "a_dict = {'val1': 1, 'val2': 2}\n",
    "a_dict"
   ]
  },
  {
   "cell_type": "code",
   "execution_count": null,
   "metadata": {},
   "outputs": [],
   "source": [
    "# values are accessed via keys\n",
    "a_dict['val1']"
   ]
  },
  {
   "cell_type": "markdown",
   "metadata": {},
   "source": [
    "## Booleans and conditionals\n",
    "We can use comparisons to enact logic in our programs. For example, if someone's grade is 100%, we might print out 'good job!'."
   ]
  },
  {
   "cell_type": "code",
   "execution_count": null,
   "metadata": {},
   "outputs": [],
   "source": [
    "grade = 100  # assign 100 to variable grade.  = is an assignment operator and == is an equality operator"
   ]
  },
  {
   "cell_type": "code",
   "execution_count": null,
   "metadata": {},
   "outputs": [],
   "source": [
    "if grade == 100:\n",
    "    print('good job!')"
   ]
  },
  {
   "cell_type": "code",
   "execution_count": null,
   "metadata": {},
   "outputs": [],
   "source": [
    "2 == 2  # This is true. = is an assignment operator and == is an equality operator"
   ]
  },
  {
   "cell_type": "code",
   "execution_count": null,
   "metadata": {},
   "outputs": [],
   "source": [
    "2 == 4  # This is false"
   ]
  },
  {
   "cell_type": "markdown",
   "metadata": {},
   "source": [
    "## Basic math\n",
    "Math operators in Python include addition (+), subtraction (-), division(/), integer division (//), multiplication (\\*), exponentiation (\\*\\*), and the modulo operator (%) which returns the remainder of division."
   ]
  },
  {
   "cell_type": "code",
   "execution_count": null,
   "metadata": {},
   "outputs": [],
   "source": [
    "12 + 12"
   ]
  },
  {
   "cell_type": "code",
   "execution_count": null,
   "metadata": {},
   "outputs": [],
   "source": [
    "12 - 1"
   ]
  },
  {
   "cell_type": "code",
   "execution_count": null,
   "metadata": {},
   "outputs": [],
   "source": [
    "12 / 5"
   ]
  },
  {
   "cell_type": "code",
   "execution_count": null,
   "metadata": {},
   "outputs": [],
   "source": [
    "# integer division\n",
    "12 // 5"
   ]
  },
  {
   "cell_type": "code",
   "execution_count": null,
   "metadata": {},
   "outputs": [],
   "source": [
    "# modulo, which returns the remainder from division\n",
    "12 % 5"
   ]
  },
  {
   "cell_type": "code",
   "execution_count": null,
   "metadata": {},
   "outputs": [],
   "source": [
    "12 ** 2"
   ]
  },
  {
   "cell_type": "markdown",
   "metadata": {},
   "source": [
    "## NumPy and pandas\n",
    "Numpy is a library we use for mathematics, while pandas is a data handling and preparation package. The basic numpy data structure is an array, which is like a list but better.\n",
    "\n",
    "Pandas uses NumPy to carry out some of its functionality. Pandas is used widely with Python in data science."
   ]
  },
  {
   "cell_type": "code",
   "execution_count": null,
   "metadata": {},
   "outputs": [],
   "source": [
    "an_array = np.array([1, 2, 3])"
   ]
  },
  {
   "cell_type": "code",
   "execution_count": null,
   "metadata": {},
   "outputs": [],
   "source": [
    "# we can also do things like create a 5 by 2 numpy array with random integers between 0 and 100\n",
    "# useful for generating data for testing code\n",
    "np.random.randint(0, 100, (5, 2))"
   ]
  },
  {
   "cell_type": "code",
   "execution_count": null,
   "metadata": {},
   "outputs": [],
   "source": [
    "# this returns the average\n",
    "np.mean(an_array)"
   ]
  },
  {
   "cell_type": "markdown",
   "metadata": {},
   "source": [
    "### pandas\n",
    "The main use of pandas is to load and work with data in DataFrames.  It is very similar to working with Excel, but can handle much bigger data and is easier to customize than Excel (e.g. using machine learning and integrating it into a website is generally easier with pandas DataFrames than with Excel spreadsheets)."
   ]
  },
  {
   "cell_type": "code",
   "execution_count": null,
   "metadata": {},
   "outputs": [],
   "source": [
    "# a dataframe is the basic building block for pandas\n",
    "df = pd.DataFrame(data={'col1': [1, 2, 3], 'col2': [4, 4, 4]})\n",
    "df"
   ]
  },
  {
   "cell_type": "code",
   "execution_count": null,
   "metadata": {},
   "outputs": [],
   "source": [
    "# each column in a dataframe is a series\n",
    "e = pd.Series([1, 3, 5, np.nan, 6, 8], name='data')  # Create a pandas series with an NaN (not a number, or missing value)\n",
    "e"
   ]
  },
  {
   "cell_type": "code",
   "execution_count": null,
   "metadata": {},
   "outputs": [],
   "source": [
    "e[0]  # python indexing starts with 0"
   ]
  },
  {
   "cell_type": "code",
   "execution_count": null,
   "metadata": {},
   "outputs": [],
   "source": [
    "e[3] # get the 4th element"
   ]
  },
  {
   "cell_type": "code",
   "execution_count": null,
   "metadata": {},
   "outputs": [],
   "source": [
    "e.dropna()  # remove the missing values"
   ]
  },
  {
   "cell_type": "markdown",
   "metadata": {},
   "source": [
    "## Calculating summary statistics\n",
    "pandas can calculate basic summary statistics, which relies on NumPy:"
   ]
  },
  {
   "cell_type": "code",
   "execution_count": null,
   "metadata": {},
   "outputs": [],
   "source": [
    "# average\n",
    "e.mean()"
   ]
  },
  {
   "cell_type": "code",
   "execution_count": null,
   "metadata": {},
   "outputs": [],
   "source": [
    "# standard deviation\n",
    "e.std()"
   ]
  },
  {
   "cell_type": "code",
   "execution_count": null,
   "metadata": {},
   "outputs": [],
   "source": [
    "# one-line command to calculate many summary stats, including quartiles (the 25%, 50%, and 75% shown below)\n",
    "e.describe()"
   ]
  },
  {
   "cell_type": "code",
   "execution_count": null,
   "metadata": {},
   "outputs": [],
   "source": [
    "# NumPy can be used as well:\n",
    "np.mean(e)"
   ]
  },
  {
   "cell_type": "code",
   "execution_count": null,
   "metadata": {},
   "outputs": [],
   "source": [
    "np.std(e)"
   ]
  },
  {
   "cell_type": "code",
   "execution_count": null,
   "metadata": {},
   "outputs": [],
   "source": [
    "# convert the series to a dataframe\n",
    "df = pd.DataFrame(e)"
   ]
  },
  {
   "cell_type": "code",
   "execution_count": null,
   "metadata": {},
   "outputs": [],
   "source": [
    "# the column name is 'data'\n",
    "df"
   ]
  },
  {
   "cell_type": "code",
   "execution_count": null,
   "metadata": {},
   "outputs": [],
   "source": [
    "df.columns"
   ]
  },
  {
   "cell_type": "code",
   "execution_count": null,
   "metadata": {},
   "outputs": [],
   "source": [
    "# access a column by name\n",
    "df['data']"
   ]
  },
  {
   "cell_type": "code",
   "execution_count": null,
   "metadata": {},
   "outputs": [],
   "source": [
    "df['data'].mean()"
   ]
  },
  {
   "cell_type": "code",
   "execution_count": null,
   "metadata": {},
   "outputs": [],
   "source": [
    "# pandas can also plot data directly from a DataFrame. This uses matplotlib\n",
    "df['data'].plot()\n",
    "plt.show()  # this line causes the plot to show up, especially if we are running the code not from a jupyter notebook"
   ]
  },
  {
   "cell_type": "markdown",
   "metadata": {},
   "source": [
    "## Functions\n",
    "\n",
    "We use functions frequently in Python and other programming languages.  These allow us to re-use code.  Here is a simple example of creating and using a function."
   ]
  },
  {
   "cell_type": "code",
   "execution_count": null,
   "metadata": {},
   "outputs": [],
   "source": [
    "def add_two_numbers(a, b):\n",
    "    \"\"\"\n",
    "    Adds two numbers together and returns the result.\n",
    "    \n",
    "    params:\n",
    "      a: int or float\n",
    "      b: int or float\n",
    "    returns:\n",
    "      int or float of the sum of a and b\n",
    "    \"\"\"\n",
    "    return a + b"
   ]
  },
  {
   "cell_type": "code",
   "execution_count": null,
   "metadata": {},
   "outputs": [],
   "source": [
    "add_two_numbers(2, 4)"
   ]
  },
  {
   "cell_type": "markdown",
   "metadata": {},
   "source": [
    "Python functions can be written recurisvely.  When we define a recursive function we must also define the temination peramaters, or it may run forever.\n",
    "\n",
    "More about recursive Python programming can be found here: https://realpython.com/python-thinking-recursively/ and here https://www.python-course.eu/python3_recursive_functions.php. Both of these posts do a good job explaning recursive programming."
   ]
  },
  {
   "cell_type": "code",
   "execution_count": null,
   "metadata": {},
   "outputs": [],
   "source": [
    "# Here we will compute the Fibonacci sequence using a recursive function.\n",
    "# There are computationally-faster ways to do this but this is a good example of recursive functions\n",
    "\n",
    "def fibonacci(x):                                # Create a function called fibonacci which takes variable x. \n",
    "    if x > 1:                                    # define when to terminate the function.       \n",
    "        x = fibonacci(x - 1) + fibonacci(x - 2)  # The fibonacci equation\n",
    "    return(x)                                    # Return the value x"
   ]
  },
  {
   "cell_type": "code",
   "execution_count": null,
   "metadata": {},
   "outputs": [],
   "source": [
    "fibonacci(12)  # Call the function.\n",
    "# We change the initial value of x but don't make it too large (over 35) because\n",
    "# it will take a long time to compute"
   ]
  },
  {
   "cell_type": "markdown",
   "metadata": {},
   "source": [
    "Now we will make a loop to print each value of the fibonacci sequence "
   ]
  },
  {
   "cell_type": "code",
   "execution_count": null,
   "metadata": {},
   "outputs": [],
   "source": [
    "fib = []                       # create an empty array\n",
    "iteration = 20                 # Define how many values of the fibonacci sequnce we want to calculate\n",
    "for i in range(0, iteration):  # Create a for loop from length 0 to iteration \n",
    "    fib.append(fibonacci(i))   # append the fibonacci function result for each i onto fib\n",
    "print(fib)                     # print fib"
   ]
  },
  {
   "cell_type": "markdown",
   "metadata": {},
   "source": [
    "Now let's plot the Fibonacci sequence using matplotlib"
   ]
  },
  {
   "cell_type": "code",
   "execution_count": null,
   "metadata": {},
   "outputs": [],
   "source": [
    "x = list(range(iteration))  # create a list of x values same length as the fibonacci sequence\n",
    "x"
   ]
  },
  {
   "cell_type": "code",
   "execution_count": null,
   "metadata": {},
   "outputs": [],
   "source": [
    "plt.plot(x, fib)                  # create a plot of fib vs x\n",
    "plt.xlabel('Iteration Length')    # label x axis\n",
    "plt.ylabel(\"Fibonacci's Values\")  # label y axis\n",
    "plt.title('Fibonacci Squence')    # title the plot\n",
    "plt.show()                        # show the plot"
   ]
  },
  {
   "cell_type": "markdown",
   "metadata": {},
   "source": [
    "We can also calculate and plot the Fibonacci sequence using a generative process that is much faster than the recurisve process shown above. More about generative processes in python can be found here: https://medium.freecodecamp.org/how-and-why-you-should-use-python-generators-f6fb56650888 and here https://www.dataquest.io/blog/python-generators-tutorial/"
   ]
  },
  {
   "cell_type": "code",
   "execution_count": null,
   "metadata": {},
   "outputs": [],
   "source": [
    "def fibo(num):               # define the function fibo that takes the variable num\n",
    "    a, b = 0, 1              # set initial values of a = 0 and b = 1\n",
    "    for i in range(0, num):  # Create for loop from range 0 to length = num \n",
    "        yield a              # yield (return) a\n",
    "        a, b = b, a + b      # a = b and b = a + b\n",
    "        \n",
    "l = list(fibo(20))           # list the Fibonacci values from interation 0 to num\n",
    "l                            # display the list"
   ]
  },
  {
   "cell_type": "code",
   "execution_count": null,
   "metadata": {},
   "outputs": [],
   "source": [
    "plt.plot(l)                      # create a plot of list generated by the fibo function\n",
    "plt.xlabel('Iteration Length')   # label x axis\n",
    "plt.ylabel(\"Fibonacci's Values\") # label y axis\n",
    "plt.title('Fibonacci Squence')   # title the plot\n",
    "plt.show()                       # show the plot"
   ]
  },
  {
   "cell_type": "markdown",
   "metadata": {},
   "source": [
    "As your last step, plot the Fibonacci sequence from 1 to 100."
   ]
  },
  {
   "cell_type": "code",
   "execution_count": null,
   "metadata": {},
   "outputs": [],
   "source": [
    "# add your code here\n"
   ]
  },
  {
   "cell_type": "markdown",
   "metadata": {},
   "source": [
    "Great job! You completed the tutorial"
   ]
  }
 ],
 "metadata": {
  "kernelspec": {
   "display_name": "Python 3",
   "language": "python",
   "name": "python3"
  },
  "language_info": {
   "codemirror_mode": {
    "name": "ipython",
    "version": 3
   },
   "file_extension": ".py",
   "mimetype": "text/x-python",
   "name": "python",
   "nbconvert_exporter": "python",
   "pygments_lexer": "ipython3",
   "version": "3.8.5"
  }
 },
 "nbformat": 4,
 "nbformat_minor": 2
}
